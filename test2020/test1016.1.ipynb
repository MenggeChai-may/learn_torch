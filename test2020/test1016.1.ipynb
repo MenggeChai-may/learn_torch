{
 "cells": [
  {
   "cell_type": "code",
   "execution_count": 1,
   "metadata": {
    "collapsed": true,
    "pycharm": {
     "name": "#%%\n"
    }
   },
   "outputs": [
    {
     "name": "stdout",
     "output_type": "stream",
     "text": [
      "\n",
      "================================================================2020-10-16 21:25:56\n"
     ]
    },
    {
     "data": {
      "text/plain": "KeysView(environ({'ALLUSERSPROFILE': 'C:\\\\ProgramData', 'APPDATA': 'C:\\\\Users\\\\menggechai\\\\AppData\\\\Roaming', 'COMMONPROGRAMFILES': 'C:\\\\Program Files\\\\Common Files', 'COMMONPROGRAMFILES(X86)': 'C:\\\\Program Files (x86)\\\\Common Files', 'COMMONPROGRAMW6432': 'C:\\\\Program Files\\\\Common Files', 'COMPUTERNAME': 'DESKTOP-B1SEGTI', 'COMSPEC': 'C:\\\\Windows\\\\system32\\\\cmd.exe', 'DRIVERDATA': 'C:\\\\Windows\\\\System32\\\\Drivers\\\\DriverData', 'HOMEDRIVE': 'C:', 'HOMEPATH': '\\\\Users\\\\menggechai', 'IDEA_INITIAL_DIRECTORY': 'D:\\\\code', 'LOCALAPPDATA': 'C:\\\\Users\\\\menggechai\\\\AppData\\\\Local', 'LOGONSERVER': '\\\\\\\\DESKTOP-B1SEGTI', 'NUMBER_OF_PROCESSORS': '8', 'ONEDRIVE': 'F:\\\\onedrive_data\\\\OneDrive', 'ONEDRIVECONSUMER': 'F:\\\\onedrive_data\\\\OneDrive', 'OS': 'Windows_NT', 'PATH': 'D:\\\\software\\\\XSHELL\\\\xftp\\\\;D:\\\\software\\\\XSHELL\\\\;D:\\\\python\\\\Scripts\\\\;D:\\\\python\\\\;C:\\\\Windows\\\\system32;C:\\\\Windows;C:\\\\Windows\\\\System32\\\\Wbem;C:\\\\Windows\\\\System32\\\\WindowsPowerShell\\\\v1.0\\\\;C:\\\\Windows\\\\System32\\\\OpenSSH\\\\;D:\\\\software\\\\matlab2020a\\\\runtime\\\\win64;D:\\\\software\\\\matlab2020a\\\\bin;D:\\\\software\\\\matlab2020a\\\\polyspace\\\\bin;C:\\\\Program Files (x86)\\\\HP\\\\IdrsOCR_15.2.10.1114\\\\;C:\\\\Program Files\\\\Git\\\\cmd;C:\\\\Users\\\\menggechai\\\\AppData\\\\Local\\\\Microsoft\\\\WindowsApps;;D:\\\\software\\\\pycharm\\\\PyCharm 2020.2.1\\\\bin;;D:\\\\software\\\\VScode\\\\Microsoft VS Code\\\\bin;D:\\\\texlive\\\\texlive\\\\2020\\\\bin\\\\win32', 'PATHEXT': '.COM;.EXE;.BAT;.CMD;.VBS;.VBE;.JS;.JSE;.WSF;.WSH;.MSC;.PY;.PYW', 'PROCESSOR_ARCHITECTURE': 'AMD64', 'PROCESSOR_IDENTIFIER': 'Intel64 Family 6 Model 158 Stepping 13, GenuineIntel', 'PROCESSOR_LEVEL': '6', 'PROCESSOR_REVISION': '9e0d', 'PROGRAMDATA': 'C:\\\\ProgramData', 'PROGRAMFILES': 'C:\\\\Program Files', 'PROGRAMFILES(X86)': 'C:\\\\Program Files (x86)', 'PROGRAMW6432': 'C:\\\\Program Files', 'PSMODULEPATH': 'C:\\\\Program Files\\\\WindowsPowerShell\\\\Modules;C:\\\\Windows\\\\system32\\\\WindowsPowerShell\\\\v1.0\\\\Modules', 'PUBLIC': 'C:\\\\Users\\\\Public', 'PYCHARM': 'D:\\\\software\\\\pycharm\\\\PyCharm 2020.2.1\\\\bin;', 'PYTHONPATH': 'D:\\\\code', 'SESSIONNAME': 'Console', 'SYSTEMDRIVE': 'C:', 'SYSTEMROOT': 'C:\\\\Windows', 'TEMP': 'C:\\\\Users\\\\MENGGE~1\\\\AppData\\\\Local\\\\Temp', 'TMP': 'C:\\\\Users\\\\MENGGE~1\\\\AppData\\\\Local\\\\Temp', 'USERDOMAIN': 'DESKTOP-B1SEGTI', 'USERDOMAIN_ROAMINGPROFILE': 'DESKTOP-B1SEGTI', 'USERNAME': 'menggechai', 'USERPROFILE': 'C:\\\\Users\\\\menggechai', 'WINDIR': 'C:\\\\Windows', 'JPY_INTERRUPT_EVENT': '992', 'IPY_INTERRUPT_EVENT': '992', 'JPY_PARENT_PID': '916', 'TERM': 'xterm-color', 'CLICOLOR': '1', 'PAGER': 'cat', 'GIT_PAGER': 'cat', 'MPLBACKEND': 'module://ipykernel.pylab.backend_inline', 'KMP_DUPLICATE_LIB_OK': 'TRUE'}))"
     },
     "execution_count": 1,
     "metadata": {},
     "output_type": "execute_result"
    }
   ],
   "source": [
    "import os\n",
    "import datetime\n",
    "\n",
    "def printbar():\n",
    "    nowtime = datetime.datetime.now().strftime('%Y-%m-%d %H:%M:%S')\n",
    "    print('\\n' + '========'*8 + '%s'%nowtime)\n",
    "\n",
    "os.environ['KMP_DUPLICATE_LIB_OK'] = 'TRUE' # 避免Jupter Notebook老是服务会挂掉\n",
    "printbar()\n",
    "os.environ.keys()"
   ]
  },
  {
   "cell_type": "code",
   "execution_count": 6,
   "outputs": [
    {
     "data": {
      "text/plain": "    PassengerId  Survived  Pclass  \\\n0           493         0       1   \n1            53         1       1   \n2           388         1       2   \n3           192         0       2   \n4           687         0       3   \n..          ...       ...     ...   \n95          417         1       2   \n96          391         1       1   \n97          364         0       3   \n98          506         0       1   \n99          340         0       1   \n\n                                               Name     Sex   Age  SibSp  \\\n0                        Molson, Mr. Harry Markland    male  55.0      0   \n1          Harper, Mrs. Henry Sleeper (Myna Haxtun)  female  49.0      1   \n2                                  Buss, Miss. Kate  female  36.0      0   \n3                             Carbines, Mr. William    male  19.0      0   \n4                          Panula, Mr. Jaako Arnold    male  14.0      4   \n..                                              ...     ...   ...    ...   \n95  Drew, Mrs. James Vivian (Lulu Thorne Christian)  female  34.0      1   \n96                       Carter, Mr. William Ernest    male  36.0      1   \n97                                  Asim, Mr. Adola    male  35.0      0   \n98       Penasco y Castellana, Mr. Victor de Satode    male  18.0      1   \n99                     Blackwell, Mr. Stephen Weart    male  45.0      0   \n\n    Parch              Ticket      Fare    Cabin Embarked  \n0       0              113787   30.5000      C30        S  \n1       0            PC 17572   76.7292      D33        C  \n2       0               27849   13.0000      NaN        S  \n3       0               28424   13.0000      NaN        S  \n4       1             3101295   39.6875      NaN        S  \n..    ...                 ...       ...      ...      ...  \n95      1               28220   32.5000      NaN        S  \n96      2              113760  120.0000  B96 B98        S  \n97      0  SOTON/O.Q. 3101310    7.0500      NaN        S  \n98      0            PC 17758  108.9000      C65        C  \n99      0              113784   35.5000        T        S  \n\n[100 rows x 12 columns]",
      "text/html": "<div>\n<style scoped>\n    .dataframe tbody tr th:only-of-type {\n        vertical-align: middle;\n    }\n\n    .dataframe tbody tr th {\n        vertical-align: top;\n    }\n\n    .dataframe thead th {\n        text-align: right;\n    }\n</style>\n<table border=\"1\" class=\"dataframe\">\n  <thead>\n    <tr style=\"text-align: right;\">\n      <th></th>\n      <th>PassengerId</th>\n      <th>Survived</th>\n      <th>Pclass</th>\n      <th>Name</th>\n      <th>Sex</th>\n      <th>Age</th>\n      <th>SibSp</th>\n      <th>Parch</th>\n      <th>Ticket</th>\n      <th>Fare</th>\n      <th>Cabin</th>\n      <th>Embarked</th>\n    </tr>\n  </thead>\n  <tbody>\n    <tr>\n      <th>0</th>\n      <td>493</td>\n      <td>0</td>\n      <td>1</td>\n      <td>Molson, Mr. Harry Markland</td>\n      <td>male</td>\n      <td>55.0</td>\n      <td>0</td>\n      <td>0</td>\n      <td>113787</td>\n      <td>30.5000</td>\n      <td>C30</td>\n      <td>S</td>\n    </tr>\n    <tr>\n      <th>1</th>\n      <td>53</td>\n      <td>1</td>\n      <td>1</td>\n      <td>Harper, Mrs. Henry Sleeper (Myna Haxtun)</td>\n      <td>female</td>\n      <td>49.0</td>\n      <td>1</td>\n      <td>0</td>\n      <td>PC 17572</td>\n      <td>76.7292</td>\n      <td>D33</td>\n      <td>C</td>\n    </tr>\n    <tr>\n      <th>2</th>\n      <td>388</td>\n      <td>1</td>\n      <td>2</td>\n      <td>Buss, Miss. Kate</td>\n      <td>female</td>\n      <td>36.0</td>\n      <td>0</td>\n      <td>0</td>\n      <td>27849</td>\n      <td>13.0000</td>\n      <td>NaN</td>\n      <td>S</td>\n    </tr>\n    <tr>\n      <th>3</th>\n      <td>192</td>\n      <td>0</td>\n      <td>2</td>\n      <td>Carbines, Mr. William</td>\n      <td>male</td>\n      <td>19.0</td>\n      <td>0</td>\n      <td>0</td>\n      <td>28424</td>\n      <td>13.0000</td>\n      <td>NaN</td>\n      <td>S</td>\n    </tr>\n    <tr>\n      <th>4</th>\n      <td>687</td>\n      <td>0</td>\n      <td>3</td>\n      <td>Panula, Mr. Jaako Arnold</td>\n      <td>male</td>\n      <td>14.0</td>\n      <td>4</td>\n      <td>1</td>\n      <td>3101295</td>\n      <td>39.6875</td>\n      <td>NaN</td>\n      <td>S</td>\n    </tr>\n    <tr>\n      <th>...</th>\n      <td>...</td>\n      <td>...</td>\n      <td>...</td>\n      <td>...</td>\n      <td>...</td>\n      <td>...</td>\n      <td>...</td>\n      <td>...</td>\n      <td>...</td>\n      <td>...</td>\n      <td>...</td>\n      <td>...</td>\n    </tr>\n    <tr>\n      <th>95</th>\n      <td>417</td>\n      <td>1</td>\n      <td>2</td>\n      <td>Drew, Mrs. James Vivian (Lulu Thorne Christian)</td>\n      <td>female</td>\n      <td>34.0</td>\n      <td>1</td>\n      <td>1</td>\n      <td>28220</td>\n      <td>32.5000</td>\n      <td>NaN</td>\n      <td>S</td>\n    </tr>\n    <tr>\n      <th>96</th>\n      <td>391</td>\n      <td>1</td>\n      <td>1</td>\n      <td>Carter, Mr. William Ernest</td>\n      <td>male</td>\n      <td>36.0</td>\n      <td>1</td>\n      <td>2</td>\n      <td>113760</td>\n      <td>120.0000</td>\n      <td>B96 B98</td>\n      <td>S</td>\n    </tr>\n    <tr>\n      <th>97</th>\n      <td>364</td>\n      <td>0</td>\n      <td>3</td>\n      <td>Asim, Mr. Adola</td>\n      <td>male</td>\n      <td>35.0</td>\n      <td>0</td>\n      <td>0</td>\n      <td>SOTON/O.Q. 3101310</td>\n      <td>7.0500</td>\n      <td>NaN</td>\n      <td>S</td>\n    </tr>\n    <tr>\n      <th>98</th>\n      <td>506</td>\n      <td>0</td>\n      <td>1</td>\n      <td>Penasco y Castellana, Mr. Victor de Satode</td>\n      <td>male</td>\n      <td>18.0</td>\n      <td>1</td>\n      <td>0</td>\n      <td>PC 17758</td>\n      <td>108.9000</td>\n      <td>C65</td>\n      <td>C</td>\n    </tr>\n    <tr>\n      <th>99</th>\n      <td>340</td>\n      <td>0</td>\n      <td>1</td>\n      <td>Blackwell, Mr. Stephen Weart</td>\n      <td>male</td>\n      <td>45.0</td>\n      <td>0</td>\n      <td>0</td>\n      <td>113784</td>\n      <td>35.5000</td>\n      <td>T</td>\n      <td>S</td>\n    </tr>\n  </tbody>\n</table>\n<p>100 rows × 12 columns</p>\n</div>"
     },
     "execution_count": 6,
     "metadata": {},
     "output_type": "execute_result"
    }
   ],
   "source": [
    "import numpy as np\n",
    "import pandas as pd\n",
    "import matplotlib.pyplot as plt\n",
    "import torch\n",
    "from torch import nn\n",
    "from torch.utils.data import Dataset, DataLoader, TensorDataset\n",
    "\n",
    "dftrain_raw = pd.read_csv('../eat_pytorch_in_20_days-master/eat_pytorch_in_20_days-master/data/titanic/train.csv')\n",
    "dftest_raw = pd.read_csv('../eat_pytorch_in_20_days-master/eat_pytorch_in_20_days-master/data/titanic/test.csv')\n",
    "dftrain_raw.head(10) # pd.head 代表的是行数"
   ],
   "metadata": {
    "collapsed": false,
    "pycharm": {
     "name": "#%%\n"
    }
   }
  },
  {
   "cell_type": "code",
   "execution_count": 9,
   "outputs": [
    {
     "name": "stdout",
     "output_type": "stream",
     "text": [
      "0    433\n",
      "1    279\n",
      "Name: Survived, dtype: int64\n"
     ]
    },
    {
     "data": {
      "text/plain": "<Figure size 864x576 with 1 Axes>",
      "image/png": "[encoded data removed]"
     },
     "metadata": {
      "needs_background": "light"
     },
     "output_type": "display_data"
    }
   ],
   "source": [
    "# 在jupyter中打印图片\n",
    "%matplotlib inline\n",
    "%config InlineBackend.figure_format = 'png' # 在默认设置的matplotlib中图片分辨率不是很高，可以通过设置矢量图的方式来提高图片显示质量\n",
    "# ax = dftrain_raw['Survived'].value_counts() # 查看有多少个不同的值，并判断每个值的个数\n",
    "ax = dftrain_raw['Survived'].value_counts().plot(kind='bar',\n",
    "                                                 figsize=(12,8),fontsize=15,rot=0)\n"
   ],
   "metadata": {
    "collapsed": false,
    "pycharm": {
     "name": "#%%\n"
    }
   }
  }
 ],
 "metadata": {
  "kernelspec": {
   "display_name": "Python 3",
   "language": "python",
   "name": "python3"
  },
  "language_info": {
   "codemirror_mode": {
    "name": "ipython",
    "version": 2
   },
   "file_extension": ".py",
   "mimetype": "text/x-python",
   "name": "python",
   "nbconvert_exporter": "python",
   "pygments_lexer": "ipython2",
   "version": "2.7.6"
  }
 },
 "nbformat": 4,
 "nbformat_minor": 0
}